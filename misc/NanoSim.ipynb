{
 "cells": [
  {
   "cell_type": "code",
   "execution_count": 1,
   "id": "ed944572-8d28-4f37-bec9-5fe35da9d42b",
   "metadata": {
    "execution": {
     "iopub.execute_input": "2024-05-23T01:22:16.034687Z",
     "iopub.status.busy": "2024-05-23T01:22:16.034134Z",
     "iopub.status.idle": "2024-05-23T01:22:16.871231Z",
     "shell.execute_reply": "2024-05-23T01:22:16.870263Z",
     "shell.execute_reply.started": "2024-05-23T01:22:16.034629Z"
    },
    "tags": []
   },
   "outputs": [],
   "source": [
    "from biofrost.env import *"
   ]
  },
  {
   "cell_type": "code",
   "execution_count": 2,
   "id": "c543b646-2887-4c4d-90d2-a187fddb57ae",
   "metadata": {
    "execution": {
     "iopub.execute_input": "2024-05-23T01:22:16.872362Z",
     "iopub.status.busy": "2024-05-23T01:22:16.872116Z",
     "iopub.status.idle": "2024-05-23T01:22:23.875988Z",
     "shell.execute_reply": "2024-05-23T01:22:23.875169Z",
     "shell.execute_reply.started": "2024-05-23T01:22:16.872348Z"
    },
    "tags": []
   },
   "outputs": [],
   "source": [
    "from tqdm import tqdm\n",
    "from biofrost.parser import yield_gff, Faidx, revcomp\n",
    "from collections import defaultdict\n",
    "\n",
    "gtf_file = '/data/public/database/GENCODE/Mouse_Release_M25/gencode.vM25.annotation.gtf'\n",
    "genome_file = '/data/public/database/GENCODE/Mouse_Release_M25/GRCm38.p6.genome.fa'\n",
    "\n",
    "# Load transcriptome structure\n",
    "tx_structure = defaultdict(dict)\n",
    "for parser in yield_gff(gtf_file, ):\n",
    "    if parser.type != 'exon':\n",
    "        continue\n",
    "    if parser.gene_type != 'protein_coding':\n",
    "        continue\n",
    "    tx_structure[parser.gene_id].setdefault(parser.transcript_id, []).append(parser)\n",
    "\n",
    "# Load reference genome\n",
    "genome = Faidx(genome_file)\n",
    "# aligner = mp.Aligner('/data/public/database/GENCODE/Mouse_Release_M25/GRCm38.p6.genome.fa', preset='splice', n_threads=16)"
   ]
  },
  {
   "cell_type": "code",
   "execution_count": 3,
   "id": "8f8d8051-30c6-4299-806f-0bc413dabd07",
   "metadata": {
    "execution": {
     "iopub.execute_input": "2024-05-23T01:22:23.877294Z",
     "iopub.status.busy": "2024-05-23T01:22:23.876943Z",
     "iopub.status.idle": "2024-05-23T01:22:25.526507Z",
     "shell.execute_reply": "2024-05-23T01:22:25.525891Z",
     "shell.execute_reply.started": "2024-05-23T01:22:23.877278Z"
    },
    "tags": []
   },
   "outputs": [
    {
     "name": "stdout",
     "output_type": "stream",
     "text": [
      "Simulating circRNAs\n"
     ]
    },
    {
     "name": "stderr",
     "output_type": "stream",
     "text": [
      "100%|██████████| 21859/21859 [00:01<00:00, 15027.97it/s]\n"
     ]
    },
    {
     "name": "stdout",
     "output_type": "stream",
     "text": [
      "Output simulation results\n"
     ]
    },
    {
     "name": "stderr",
     "output_type": "stream",
     "text": [
      "100%|██████████| 41092/41092 [00:00<00:00, 235786.11it/s]\n"
     ]
    }
   ],
   "source": [
    "simulate_fa = './circRNAs.fa'\n",
    "simulate_abund = './abundances.tsv'\n",
    "\n",
    "print(\"Simulating circRNAs\")\n",
    "sim_res = []\n",
    "for gene_id in tqdm(tx_structure):\n",
    "    for tx_id, exons in tx_structure[gene_id].items():\n",
    "        # Exclude the first and last exon for generating circRNAs\n",
    "        if len(exons) < 3:\n",
    "            continue\n",
    "            \n",
    "        # Skip scaffolds\n",
    "        if '.' in exons[0].contig:\n",
    "            continue\n",
    "\n",
    "        # If generate circRNA\n",
    "        is_circ = np.random.rand()\n",
    "        if is_circ < 0.5:\n",
    "            continue\n",
    "\n",
    "        # Simulate circRNAs from internal exons\n",
    "        start_exon, end_exon = sorted(np.random.randint(1, len(exons) - 1, 2))\n",
    "\n",
    "        # Get sequence\n",
    "        circ_seq = ''\n",
    "        sites = []        \n",
    "        for exon in exons[start_exon:end_exon+1]:\n",
    "            tmp_seq = genome.seq(exon.contig, exon.start - 1, exon.end)\n",
    "            if exon.strand == '-':\n",
    "                tmp_seq = revcomp(tmp_seq)\n",
    "            circ_seq += tmp_seq\n",
    "            sites += [exon.start, exon.end]\n",
    "        circ_id = f'{tx_id}|{gene_id}|{exons[0].contig}:{min(sites)}-{max(sites)}|{exons[0].strand}|{len(circ_seq)}'\n",
    "\n",
    "        # Random permutation\n",
    "        start = np.random.randint(0, len(circ_seq))\n",
    "        pseudo_seq = circ_seq[start:] + circ_seq * 10 # Generate pseudo circular reference\n",
    "        \n",
    "        # Random expression levels\n",
    "        tpm = np.random.beta(0.3, 1)\n",
    "        sim_res.append((circ_id, circ_seq, pseudo_seq, tpm))\n",
    "\n",
    "# Expression level Normalization\n",
    "print(\"Output simulation results\")\n",
    "factor = 1000 * 1000 / np.sum([i[3] for i in sim_res])\n",
    "with open(simulate_fa, 'w') as fa, open(simulate_abund, 'w') as tsv:\n",
    "    for circ_id, circ_seq, pseudo_seq, tpm in tqdm(sim_res):\n",
    "        fa.write('>{}\\n{}\\n'.format(circ_id, pseudo_seq))\n",
    "        tsv.write('{}\\t{}\\t{}\\n'.format(circ_id, circ_seq, tpm * factor))"
   ]
  },
  {
   "cell_type": "markdown",
   "id": "4fbcb80b-8a5b-4806-826c-11055b7bec08",
   "metadata": {},
   "source": [
    "```bash\n",
    "# Reference genome and annotaion\n",
    "gtf='/data/public/database/GENCODE/Mouse_Release_M25/gencode.vM25.annotation.gtf'\n",
    "genome='/data/public/database/GENCODE/Mouse_Release_M25/GRCm38.p6.genome.fa'\n",
    "transcriptome='/data/public/database/GENCODE/Mouse_Release_M25/gencode.vM25.transcripts.fa'\n",
    "\n",
    "# Control sequencing dataset\n",
    "control_fq=\"./mouse_liver_control.fq.gz\"\n",
    "simulate_circ='./circRNAs.fa'\n",
    "simulate_abund='./abundances.tsv'\n",
    "output=\"./simulated\"\n",
    "threads=16\n",
    "\n",
    "# Step1. Characterization stage\n",
    "./NanoSim-2.4-beta/src/read_analysis.py transcriptome \\\n",
    "        -i <(gunzip -c ${control_fq}) \\\n",
    "        -rg ${genome} \\\n",
    "        -rt ${transcriptome} \\\n",
    "        -a minimap2 \\\n",
    "        -o ${output}/control \\\n",
    "        --no_intron_retention \\\n",
    "        -t ${threads}\n",
    "\n",
    "# Step2. Simulation circRNA reads\n",
    "./NanoSim-2.4-beta/src/simulator.py transcriptome \\\n",
    "        -rg ${genome} \\\n",
    "        -rt ${simulate_circ} \\\n",
    "        -c ${output}/control \\\n",
    "        -o ${output}/circ \\\n",
    "        -n 200000 \\\n",
    "        -e ${simulate_abund} \\\n",
    "        --no_model_ir\n",
    "\n",
    "# Step3. Quantification of linear genes\n",
    "./NanoSim-2.4-beta/src/read_analysis.py quantify \\\n",
    "    -i ${control_fq} \\\n",
    "    -rt ${transcriptome} \\\n",
    "    -t ${threads} \\\n",
    "    -o ${output}/expression\n",
    "\n",
    "# Step4. simulate linear mRNA reads\n",
    "./NanoSim-2.4-beta/src/simulator.py transcriptome \\\n",
    "    -rg ${genome} \\\n",
    "    -rt ${transcriptome} \\\n",
    "    -c ${output}/control \\\n",
    "    -o ${output}/linear \\\n",
    "    -n 200000 \\\n",
    "    -e ${output}/expression_abundance.tsv\n",
    "    --no_model_ir\n",
    "```"
   ]
  }
 ],
 "metadata": {
  "kernelspec": {
   "display_name": "python3.11",
   "language": "python",
   "name": "python3.11"
  },
  "language_info": {
   "codemirror_mode": {
    "name": "ipython",
    "version": 3
   },
   "file_extension": ".py",
   "mimetype": "text/x-python",
   "name": "python",
   "nbconvert_exporter": "python",
   "pygments_lexer": "ipython3",
   "version": "3.11.5"
  },
  "widgets": {
   "application/vnd.jupyter.widget-state+json": {
    "state": {},
    "version_major": 2,
    "version_minor": 0
   }
  }
 },
 "nbformat": 4,
 "nbformat_minor": 5
}
